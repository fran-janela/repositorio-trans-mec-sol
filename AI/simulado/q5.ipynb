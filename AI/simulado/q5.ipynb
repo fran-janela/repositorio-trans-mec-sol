{
 "cells": [
  {
   "cell_type": "code",
   "execution_count": 1,
   "metadata": {},
   "outputs": [],
   "source": [
    "# Importando Bibliotecas\n",
    "from math import pi, sinh, cosh, sqrt\n",
    "import matplotlib.pyplot as plt\n",
    "import numpy as np\n",
    "\n",
    "# Declarando variáveis\n",
    "Tb = 100 + 273            # Temperatura da Base [K]\n",
    "TL = 0 + 273              # Temperatura da Base [K]\n",
    "Tinf = 0 + 273              # Temperatura ambiente [K]\n",
    "r = 5e-4                  # Raio da Aleta [m]\n",
    "L = 25e-3                 # Comprimento da Aleta [m]\n",
    "k = 400                   # Condutividade térmica do alumínio-2014 [W/mK]\n",
    "h = 100                   # Coeficiente de transferência de calor por convecção natural em [W/(m^2*K)]"
   ]
  },
  {
   "cell_type": "code",
   "execution_count": 2,
   "metadata": {},
   "outputs": [],
   "source": [
    "P = 2 * pi * r\n",
    "Ab = pi * r**2\n",
    "\n",
    "m = sqrt((h * P) / (k * Ab))\n",
    "\n",
    "M = sqrt(h * P * k * Ab) * (Tb - Tinf)\n",
    "\n",
    "qa = M*((cosh(m*L) - ((TL - Tinf) / (Tb - Tinf)))/(sinh(m*L)))"
   ]
  },
  {
   "cell_type": "code",
   "execution_count": 3,
   "metadata": {},
   "outputs": [
    {
     "name": "stdout",
     "output_type": "stream",
     "text": [
      "A efetividade da aleta é: 192.022\n"
     ]
    }
   ],
   "source": [
    "# Efetividade da aleta:\n",
    "efetividade = qa / (h * Ab * (Tb - Tinf))\n",
    "print('A efetividade da aleta é: {:.3f}'.format(efetividade))"
   ]
  },
  {
   "cell_type": "markdown",
   "metadata": {},
   "source": [
    "Como a efetividade é maior do que 2, ou seja, alta, a construção fica justificada."
   ]
  }
 ],
 "metadata": {
  "interpreter": {
   "hash": "70f49f041679d74ed38be3dd5d541915742122842326991e72b7f203061ffb6e"
  },
  "kernelspec": {
   "display_name": "Python 3.8.5 ('base')",
   "language": "python",
   "name": "python3"
  },
  "language_info": {
   "codemirror_mode": {
    "name": "ipython",
    "version": 3
   },
   "file_extension": ".py",
   "mimetype": "text/x-python",
   "name": "python",
   "nbconvert_exporter": "python",
   "pygments_lexer": "ipython3",
   "version": "3.8.5"
  },
  "orig_nbformat": 4
 },
 "nbformat": 4,
 "nbformat_minor": 2
}
