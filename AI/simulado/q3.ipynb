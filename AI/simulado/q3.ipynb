{
 "cells": [
  {
   "cell_type": "code",
   "execution_count": 1,
   "metadata": {},
   "outputs": [
    {
     "name": "stdout",
     "output_type": "stream",
     "text": [
      "O maior erro é: 0.24617346938775508\n"
     ]
    }
   ],
   "source": [
    "# calculando os erros das células internas:\n",
    "lista_erros = []\n",
    "\n",
    "m11 = (10.2238 - 8.9959)/10.2238\n",
    "lista_erros.append(m11)\n",
    "m12 = (5.9953 - 5.2564)/5.9953\n",
    "lista_erros.append(m12)\n",
    "m13 = (7.3030 - 6.4059)/7.3030\n",
    "lista_erros.append(m13)\n",
    "m21 = (4.5160 - 3.9570)/4.5160\n",
    "lista_erros.append(m21)\n",
    "m22 = (0.1568 - 0.1182)/0.1568\n",
    "lista_erros.append(m22)\n",
    "m23 = (1.5572 - 1.3582)/1.5572\n",
    "lista_erros.append(m23)\n",
    "m31 = (4.3823 - 3.8558)/4.3823\n",
    "lista_erros.append(m31)\n",
    "m32 = (0.0778 - 0.0587)/0.0778\n",
    "lista_erros.append(m32)\n",
    "m33 = (1.4615 - 1.2858)/1.4615\n",
    "lista_erros.append(m33)\n",
    "\n",
    "print(f'O maior erro é: {max(lista_erros)}')"
   ]
  }
 ],
 "metadata": {
  "interpreter": {
   "hash": "70f49f041679d74ed38be3dd5d541915742122842326991e72b7f203061ffb6e"
  },
  "kernelspec": {
   "display_name": "Python 3.8.5 ('base')",
   "language": "python",
   "name": "python3"
  },
  "language_info": {
   "codemirror_mode": {
    "name": "ipython",
    "version": 3
   },
   "file_extension": ".py",
   "mimetype": "text/x-python",
   "name": "python",
   "nbconvert_exporter": "python",
   "pygments_lexer": "ipython3",
   "version": "3.8.5"
  },
  "orig_nbformat": 4
 },
 "nbformat": 4,
 "nbformat_minor": 2
}
