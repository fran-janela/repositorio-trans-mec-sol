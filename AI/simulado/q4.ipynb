{
 "cells": [
  {
   "cell_type": "code",
   "execution_count": 1,
   "metadata": {},
   "outputs": [],
   "source": [
    "# Importando Bibliotecas\n",
    "# Importando Bibliotecas\n",
    "from math import pi, sqrt, cosh, sinh\n",
    "import matplotlib.pyplot as plt\n",
    "import numpy as np\n",
    "from mpl_toolkits.axes_grid1 import make_axes_locatable"
   ]
  },
  {
   "cell_type": "code",
   "execution_count": 2,
   "metadata": {},
   "outputs": [],
   "source": [
    "# Tolerância:\n",
    "tol = 1e-8\n",
    "\n",
    "# Comprimento:\n",
    "C = 4e-1          # 0,4 m\n",
    "\n",
    "# Largura:\n",
    "L = 4e-1          # 0,4 m\n",
    "\n",
    "# Densidade:\n",
    "ro = 2700         # kg/m3\n",
    "\n",
    "# Condutividade térmica:\n",
    "k = 230           # W/mK\n",
    "\n",
    "# Calor específico:\n",
    "c = 896           # J/kgK\n",
    "\n",
    "# Temperatura da base:\n",
    "Tb = 100          # °C\n",
    "\n",
    "# Temperatura na extremidade:\n",
    "TL = 25           # °C\n",
    "\n",
    "# Temperatura ambiente:\n",
    "Tinf = 50         # °C\n",
    "\n",
    "\n",
    "## DADOS DO MODELO NUMÉRICO:\n",
    "\n",
    "# Variação em x:\n",
    "delta_x = 1e-2    # m\n",
    "delta_y = 1e-2    # m\n",
    "\n",
    "# Tempo de Simulação inicial:\n",
    "tempo = 10000      # s"
   ]
  },
  {
   "cell_type": "code",
   "execution_count": 3,
   "metadata": {},
   "outputs": [],
   "source": [
    "# Número de divisões do tamanho da aleta:\n",
    "nx = int(C / delta_x) + 1\n",
    "ny = int(L / delta_y) + 1\n",
    "\n",
    "# variáveis calculadas:\n",
    "alpha = k/(ro*c)\n",
    "\n",
    "## VALORES TEMPORAIS:\n",
    "\n",
    "# Variação mínima temporal:\n",
    "delta_t =  (delta_x**2/(4*alpha)) * 0.9  # \"*0.9\" para ser menor que o valor calculado\n",
    "\n",
    "# número de iterações no tempo determinado espaçadas por um delta t:\n",
    "passos = len(np.arange(0, tempo, delta_t))"
   ]
  },
  {
   "cell_type": "code",
   "execution_count": 4,
   "metadata": {},
   "outputs": [],
   "source": [
    "# Gerando a matriz com as condições de temperatura expecificadas\n",
    "TM = np.zeros((passos, nx, ny))\n",
    "\n",
    "TM[:,0,:] = 100\n",
    "TM[:, :, 0] = 75\n",
    "TM[:, :, ny-1] = 50\n",
    "TM[:, nx-1, :] = 0\n"
   ]
  },
  {
   "cell_type": "code",
   "execution_count": 5,
   "metadata": {},
   "outputs": [
    {
     "name": "stderr",
     "output_type": "stream",
     "text": [
      "<ipython-input-5-3d85f36f1548>:15: RuntimeWarning: invalid value encountered in true_divide\n",
      "  erro = np.amax(abs((TM[l+1, 1:-1, 1:-1] - TM[l, 1:-1, 1:-1]) / TM[l+1, 1:-1, 1:-1]))  # Cálculo do erro\n"
     ]
    },
    {
     "name": "stdout",
     "output_type": "stream",
     "text": [
      "Convergiu!\n"
     ]
    }
   ],
   "source": [
    "# fator de multiplicação:\n",
    "lambida = alpha*(delta_t)/((delta_x)**2)\n",
    "\n",
    "# Inicializando o erro\n",
    "erro = 1 \n",
    "\n",
    "# Inicializando a variável para guardar a ultima iteração feita\n",
    "t = 1\n",
    "\n",
    "for l in range(0,passos-1):\n",
    "    for i in range(1,nx-1):\n",
    "        for j in range(1, ny-1):\n",
    "            TM[l+1,i, j] = TM[l,i,j] + lambida * (TM[l,i+1,j] + TM[l,i-1,j] + TM[l,i,j-1] + TM[l,i,j+1] - 4*TM[l,i,j])\n",
    "\n",
    "    erro = np.amax(abs((TM[l+1, 1:-1, 1:-1] - TM[l, 1:-1, 1:-1]) / TM[l+1, 1:-1, 1:-1]))  # Cálculo do erro\n",
    "\n",
    "    # Em caso do erro ser menor ou igual à tolerância indicada, deve parar as iterações e guardar a chave da última iteração\n",
    "    if erro <= tol:\n",
    "        print('Convergiu!')\n",
    "        t = l\n",
    "        break\n",
    "\n",
    "# Caso o erro ainda seja maior que a tolerância indicada, pedir para aumentar o tempo de iteração\n",
    "if(erro > tol):\n",
    "    t = passos\n",
    "    print(\"|  O número de iterações não foi suficiente para alcançar a tolerância exigida.\")\n",
    "    print(f\"|  O erro calculado foi: {0}\", erro)\n",
    "    print(\"|  Aumente o tempo de execução para diminuir o erro.\")\n"
   ]
  },
  {
   "cell_type": "code",
   "execution_count": 6,
   "metadata": {},
   "outputs": [
    {
     "data": {
      "text/plain": [
       "<matplotlib.colorbar.Colorbar at 0x7ff0b0d4ff70>"
      ]
     },
     "execution_count": 6,
     "metadata": {},
     "output_type": "execute_result"
    },
    {
     "data": {
      "image/png": "[encoded data removed]",
      "text/plain": [
       "<Figure size 432x288 with 2 Axes>"
      ]
     },
     "metadata": {
      "needs_background": "light"
     },
     "output_type": "display_data"
    }
   ],
   "source": [
    "ax = plt.subplot(111)\n",
    "im = ax.imshow(TM[t-1,:,:])\n",
    "divider = make_axes_locatable(ax)\n",
    "cax = divider.append_axes(\"right\", size= \"5%\", pad = 0.05)\n",
    "plt.colorbar(im, cax=cax)"
   ]
  },
  {
   "cell_type": "code",
   "execution_count": 7,
   "metadata": {},
   "outputs": [
    {
     "name": "stdout",
     "output_type": "stream",
     "text": [
      "A temperatura do nó central é: 56.24984221277244 °C\n"
     ]
    }
   ],
   "source": [
    "# Temperatura do nó central:\n",
    "print(f'A temperatura do nó central é: {TM[t,int((nx-1)/2),int((ny-1)/2)]} °C')"
   ]
  }
 ],
 "metadata": {
  "interpreter": {
   "hash": "70f49f041679d74ed38be3dd5d541915742122842326991e72b7f203061ffb6e"
  },
  "kernelspec": {
   "display_name": "Python 3.8.5 ('base')",
   "language": "python",
   "name": "python3"
  },
  "language_info": {
   "codemirror_mode": {
    "name": "ipython",
    "version": 3
   },
   "file_extension": ".py",
   "mimetype": "text/x-python",
   "name": "python",
   "nbconvert_exporter": "python",
   "pygments_lexer": "ipython3",
   "version": "3.8.5"
  },
  "orig_nbformat": 4
 },
 "nbformat": 4,
 "nbformat_minor": 2
}
