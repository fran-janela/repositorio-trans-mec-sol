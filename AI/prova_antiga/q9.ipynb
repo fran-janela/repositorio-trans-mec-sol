{
 "cells": [
  {
   "cell_type": "code",
   "execution_count": 4,
   "metadata": {},
   "outputs": [],
   "source": [
    "# Importando Bibliotecas\n",
    "from math import pi, sinh, cosh, sqrt\n",
    "import matplotlib.pyplot as plt\n",
    "import numpy as np\n",
    "\n",
    "# Declarando variáveis\n",
    "Tb = 350                  # Temperatura da Base [K]\n",
    "Tinf = 300                # Temperatura ambiente [K]\n",
    "r = 1e-3                  # Raio da Aleta [m]\n",
    "L = 12e-3                 # Comprimento da Aleta [m]\n",
    "W = 4e-3                  # Comprimento da Aleta [m]\n",
    "k = 399                   # Condutividade térmica do alumínio-2014 [W/mK]\n",
    "h = 235                   # Coeficiente de transferência de calor por convecção natural em [W/(m^2*K)]"
   ]
  },
  {
   "cell_type": "code",
   "execution_count": 5,
   "metadata": {},
   "outputs": [
    {
     "name": "stdout",
     "output_type": "stream",
     "text": [
      "0.8701075702694133\n",
      "1.0211938565897332\n"
     ]
    }
   ],
   "source": [
    "lista_temp_analitica = []\n",
    "\n",
    "P = 2 * pi * r\n",
    "Ab = pi * r**2\n",
    "\n",
    "m = sqrt((h * P) / (k * Ab))\n",
    "\n",
    "M = sqrt(h * P * k * Ab) * (Tb - Tinf)\n",
    "qa = M * ((sinh(m * L) + (h / (m * k)) * cosh(m * L)) / (cosh(m * L) + (h / (m * k)) * sinh(m * L)))\n",
    "\n",
    "print(qa)\n",
    "\n",
    "As = W**2 - Ab\n",
    "qs = h*As*(Tb-Tinf)\n",
    "\n",
    "qc = qa + qs\n",
    "print(qc)"
   ]
  }
 ],
 "metadata": {
  "interpreter": {
   "hash": "70f49f041679d74ed38be3dd5d541915742122842326991e72b7f203061ffb6e"
  },
  "kernelspec": {
   "display_name": "Python 3.8.5 ('base')",
   "language": "python",
   "name": "python3"
  },
  "language_info": {
   "codemirror_mode": {
    "name": "ipython",
    "version": 3
   },
   "file_extension": ".py",
   "mimetype": "text/x-python",
   "name": "python",
   "nbconvert_exporter": "python",
   "pygments_lexer": "ipython3",
   "version": "3.8.5"
  },
  "orig_nbformat": 4
 },
 "nbformat": 4,
 "nbformat_minor": 2
}
