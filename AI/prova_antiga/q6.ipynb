{
 "cells": [
  {
   "cell_type": "code",
   "execution_count": 3,
   "metadata": {},
   "outputs": [
    {
     "name": "stdout",
     "output_type": "stream",
     "text": [
      "n1 = 75.0%, n2 = 66.66666666666666%\n"
     ]
    }
   ],
   "source": [
    "# calculando os dois rendimentos ---> n = (Tq - Tf)/Tq\n",
    "\n",
    "n1 = (1200-300)/1200\n",
    "n2 = (900-300)/900\n",
    "\n",
    "print(f'n1 = {n1*100}%, n2 = {n2*100}%')"
   ]
  },
  {
   "cell_type": "code",
   "execution_count": 4,
   "metadata": {},
   "outputs": [
    {
     "name": "stdout",
     "output_type": "stream",
     "text": [
      "nr1 = 50.0%, nr2 = 62.5%\n"
     ]
    }
   ],
   "source": [
    "Pr1 = 10000\n",
    "Pr2 = 8000\n",
    "\n",
    "Pu = 5000\n",
    "\n",
    "#eficiência real:\n",
    "\n",
    "nr1 = Pu/Pr1\n",
    "nr2 = Pu/Pr2\n",
    "\n",
    "print(f'nr1 = {nr1*100}%, nr2 = {nr2*100}%')"
   ]
  },
  {
   "cell_type": "markdown",
   "metadata": {},
   "source": [
    "Ambos os motores são viáveis para a aplicação, mas o motor 2 é mais eficiente"
   ]
  }
 ],
 "metadata": {
  "interpreter": {
   "hash": "70f49f041679d74ed38be3dd5d541915742122842326991e72b7f203061ffb6e"
  },
  "kernelspec": {
   "display_name": "Python 3.8.5 ('base')",
   "language": "python",
   "name": "python3"
  },
  "language_info": {
   "codemirror_mode": {
    "name": "ipython",
    "version": 3
   },
   "file_extension": ".py",
   "mimetype": "text/x-python",
   "name": "python",
   "nbconvert_exporter": "python",
   "pygments_lexer": "ipython3",
   "version": "3.8.5"
  },
  "orig_nbformat": 4
 },
 "nbformat": 4,
 "nbformat_minor": 2
}
