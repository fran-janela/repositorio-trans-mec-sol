{
 "cells": [
  {
   "cell_type": "code",
   "execution_count": 1,
   "metadata": {},
   "outputs": [
    {
     "name": "stdout",
     "output_type": "stream",
     "text": [
      "-4.9519650655021845\n"
     ]
    }
   ],
   "source": [
    "# declarando variáveis:\n",
    "Tin = 22\n",
    "Text = 40\n",
    "k = 0.14\n",
    "c = 15\n",
    "l = 6\n",
    "a = 3\n",
    "L = 0.1\n",
    "\n",
    "\n",
    "# fluxo\n",
    "q_ll = -k*((Text - Tin)/L)\n",
    "\n",
    "# taxa\n",
    "qa_1 = 2*c*a*q_ll\n",
    "qa_2 = 2*l*a*q_ll\n",
    "\n",
    "qa_total = qa_1 + qa_2\n",
    "\n",
    "# conversão\n",
    "convertido = qa_total/641.2\n",
    "print(convertido)"
   ]
  }
 ],
 "metadata": {
  "interpreter": {
   "hash": "70f49f041679d74ed38be3dd5d541915742122842326991e72b7f203061ffb6e"
  },
  "kernelspec": {
   "display_name": "Python 3.8.5 ('base')",
   "language": "python",
   "name": "python3"
  },
  "language_info": {
   "codemirror_mode": {
    "name": "ipython",
    "version": 3
   },
   "file_extension": ".py",
   "mimetype": "text/x-python",
   "name": "python",
   "nbconvert_exporter": "python",
   "pygments_lexer": "ipython3",
   "version": "3.8.5"
  },
  "orig_nbformat": 4
 },
 "nbformat": 4,
 "nbformat_minor": 2
}
